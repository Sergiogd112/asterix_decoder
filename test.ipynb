{
 "cells": [
  {
   "cell_type": "code",
   "execution_count": 9,
   "id": "c1feaa59",
   "metadata": {},
   "outputs": [],
   "source": [
    "from decoder.geoutils import *\n",
    "from decoder import Decoder\n",
    "from rich import print\n",
    "import numpy as np"
   ]
  },
  {
   "cell_type": "code",
   "execution_count": 10,
   "id": "6245790c",
   "metadata": {},
   "outputs": [
    {
     "data": {
      "text/html": [
       "<pre style=\"white-space:pre;overflow-x:auto;line-height:normal;font-family:Menlo,'DejaVu Sans Mono',consolas,'Courier New',monospace\">Loaded <span style=\"color: #008080; text-decoration-color: #008080; font-weight: bold\">30060083</span> bytes from Test_Data/datos_asterix_radar.ast\n",
       "</pre>\n"
      ],
      "text/plain": [
       "Loaded \u001b[1;36m30060083\u001b[0m bytes from Test_Data/datos_asterix_radar.ast\n"
      ]
     },
     "metadata": {},
     "output_type": "display_data"
    },
    {
     "name": "stderr",
     "output_type": "stream",
     "text": [
      "Decoding:   0%|          | 656/30060083 [00:00<00:14, 2101958.31it/s]\n",
      "Decoding: 100%|██████████| 11/11 [00:00<00:00, 2084.93Msg/s]"
     ]
    },
    {
     "name": "stderr",
     "output_type": "stream",
     "text": [
      "\n"
     ]
    },
    {
     "data": {
      "text/html": [
       "<pre style=\"white-space:pre;overflow-x:auto;line-height:normal;font-family:Menlo,'DejaVu Sans Mono',consolas,'Courier New',monospace\"><span style=\"font-weight: bold\">{</span>\n",
       "    <span style=\"color: #008000; text-decoration-color: #008000\">'Category'</span>: <span style=\"color: #008080; text-decoration-color: #008080; font-weight: bold\">48</span>,\n",
       "    <span style=\"color: #008000; text-decoration-color: #008000\">'SAC'</span>: <span style=\"color: #008080; text-decoration-color: #008080; font-weight: bold\">20</span>,\n",
       "    <span style=\"color: #008000; text-decoration-color: #008000\">'SIC'</span>: <span style=\"color: #008080; text-decoration-color: #008080; font-weight: bold\">129</span>,\n",
       "    <span style=\"color: #008000; text-decoration-color: #008000\">'Time'</span>: <span style=\"color: #008000; text-decoration-color: #008000\">'4.0:0.0:0.828125'</span>,\n",
       "    <span style=\"color: #008000; text-decoration-color: #008000\">'Target_Type'</span>: <span style=\"color: #008000; text-decoration-color: #008000\">'Mode S Roll-Call + PSR'</span>,\n",
       "    <span style=\"color: #008000; text-decoration-color: #008000\">'Simulated'</span>: <span style=\"color: #ff0000; text-decoration-color: #ff0000; font-style: italic\">False</span>,\n",
       "    <span style=\"color: #008000; text-decoration-color: #008000\">'RDP'</span>: <span style=\"color: #ff0000; text-decoration-color: #ff0000; font-style: italic\">False</span>,\n",
       "    <span style=\"color: #008000; text-decoration-color: #008000\">'SPI'</span>: <span style=\"color: #ff0000; text-decoration-color: #ff0000; font-style: italic\">False</span>,\n",
       "    <span style=\"color: #008000; text-decoration-color: #008000\">'RAB'</span>: <span style=\"color: #ff0000; text-decoration-color: #ff0000; font-style: italic\">False</span>,\n",
       "    <span style=\"color: #008000; text-decoration-color: #008000\">'Range NM'</span>: <span style=\"color: #008080; text-decoration-color: #008080; font-weight: bold\">1.69921875</span>,\n",
       "    <span style=\"color: #008000; text-decoration-color: #008000\">'Range m'</span>: <span style=\"color: #008080; text-decoration-color: #008080; font-weight: bold\">3146.953125</span>,\n",
       "    <span style=\"color: #008000; text-decoration-color: #008000\">'Theta'</span>: <span style=\"color: #008080; text-decoration-color: #008080; font-weight: bold\">215.6231689453125</span>,\n",
       "    <span style=\"color: #008000; text-decoration-color: #008000\">'Mode3A'</span>: <span style=\"color: #008080; text-decoration-color: #008080; font-weight: bold\">1000</span>,\n",
       "    <span style=\"color: #008000; text-decoration-color: #008000\">'FL'</span>: <span style=\"color: #008080; text-decoration-color: #008080; font-weight: bold\">2.25</span>,\n",
       "    <span style=\"color: #008000; text-decoration-color: #008000\">'Height (ft)'</span>: <span style=\"color: #008080; text-decoration-color: #008080; font-weight: bold\">225.0</span>,\n",
       "    <span style=\"color: #008000; text-decoration-color: #008000\">'Height (m)'</span>: <span style=\"color: #008080; text-decoration-color: #008080; font-weight: bold\">68.58</span>,\n",
       "    <span style=\"color: #008000; text-decoration-color: #008000\">'SSR plot runlength'</span>: <span style=\"color: #008080; text-decoration-color: #008080; font-weight: bold\">1.3623046875</span>,\n",
       "    <span style=\"color: #008000; text-decoration-color: #008000\">'Number of received replies SSR'</span>: <span style=\"color: #008080; text-decoration-color: #008080; font-weight: bold\">5</span>,\n",
       "    <span style=\"color: #008000; text-decoration-color: #008000\">'Amplitude of (M)SSR reply'</span>: <span style=\"color: #008080; text-decoration-color: #008080; font-weight: bold\">227</span>,\n",
       "    <span style=\"color: #008000; text-decoration-color: #008000\">'Primary Plot Runlength (deg)'</span>: <span style=\"color: #008080; text-decoration-color: #008080; font-weight: bold\">0.7470703125</span>,\n",
       "    <span style=\"color: #008000; text-decoration-color: #008000\">'Amplitude of Primary Plot (dBm)'</span>: <span style=\"color: #008080; text-decoration-color: #008080; font-weight: bold\">47</span>,\n",
       "    <span style=\"color: #008000; text-decoration-color: #008000\">'Range (PSR-SSR)'</span>: <span style=\"color: #008080; text-decoration-color: #008080; font-weight: bold\">0.109375</span>,\n",
       "    <span style=\"color: #008000; text-decoration-color: #008000\">'Azimuth (PSR-SSR)'</span>: <span style=\"color: #008080; text-decoration-color: #008080; font-weight: bold\">5.537109375</span>,\n",
       "    <span style=\"color: #008000; text-decoration-color: #008000\">'TA'</span>: <span style=\"color: #008000; text-decoration-color: #008000\">'34310D'</span>,\n",
       "    <span style=\"color: #008000; text-decoration-color: #008000\">'TI'</span>: <span style=\"color: #008000; text-decoration-color: #008000\">'BCS3LR'</span>,\n",
       "    <span style=\"color: #008000; text-decoration-color: #008000\">'Repetition'</span>: <span style=\"color: #008080; text-decoration-color: #008080; font-weight: bold\">2</span>,\n",
       "    <span style=\"color: #008000; text-decoration-color: #008000\">'4,0'</span>: <span style=\"font-weight: bold\">{</span>\n",
       "        <span style=\"color: #008000; text-decoration-color: #008000\">'Status MCP/FCU'</span>: <span style=\"color: #00ff00; text-decoration-color: #00ff00; font-style: italic\">True</span>,\n",
       "        <span style=\"color: #008000; text-decoration-color: #008000\">'MCP/FCU Selected Altitude'</span>: <span style=\"color: #008080; text-decoration-color: #008080; font-weight: bold\">200.3125</span>,\n",
       "        <span style=\"color: #008000; text-decoration-color: #008000\">'Status FMS'</span>: <span style=\"color: #00ff00; text-decoration-color: #00ff00; font-style: italic\">True</span>,\n",
       "        <span style=\"color: #008000; text-decoration-color: #008000\">'FMS Selected Altitude'</span>: <span style=\"color: #008080; text-decoration-color: #008080; font-weight: bold\">204.125</span>,\n",
       "        <span style=\"color: #008000; text-decoration-color: #008000\">'Status Barometric Reference'</span>: <span style=\"color: #00ff00; text-decoration-color: #00ff00; font-style: italic\">True</span>,\n",
       "        <span style=\"color: #008000; text-decoration-color: #008000\">'Barometric Pressure Setting'</span>: <span style=\"color: #008080; text-decoration-color: #008080; font-weight: bold\">902.4</span>,\n",
       "        <span style=\"color: #008000; text-decoration-color: #008000\">'Status MCP/FCU Mode'</span>: <span style=\"color: #ff0000; text-decoration-color: #ff0000; font-style: italic\">False</span>,\n",
       "        <span style=\"color: #008000; text-decoration-color: #008000\">'VNAV Mode'</span>: <span style=\"color: #ff0000; text-decoration-color: #ff0000; font-style: italic\">False</span>,\n",
       "        <span style=\"color: #008000; text-decoration-color: #008000\">'ALT Hold Mode'</span>: <span style=\"color: #00ff00; text-decoration-color: #00ff00; font-style: italic\">True</span>,\n",
       "        <span style=\"color: #008000; text-decoration-color: #008000\">'Approach Mode'</span>: <span style=\"color: #ff0000; text-decoration-color: #ff0000; font-style: italic\">False</span>,\n",
       "        <span style=\"color: #008000; text-decoration-color: #008000\">'Status Target Source'</span>: <span style=\"color: #ff0000; text-decoration-color: #ff0000; font-style: italic\">False</span>,\n",
       "        <span style=\"color: #008000; text-decoration-color: #008000\">'Target Alt Source'</span>: <span style=\"color: #008000; text-decoration-color: #008000\">'Unknown'</span>\n",
       "    <span style=\"font-weight: bold\">}</span>,\n",
       "    <span style=\"color: #008000; text-decoration-color: #008000\">'6,0'</span>: <span style=\"font-weight: bold\">{</span>\n",
       "        <span style=\"color: #008000; text-decoration-color: #008000\">'Status Magnetic Heading'</span>: <span style=\"color: #ff0000; text-decoration-color: #ff0000; font-style: italic\">False</span>,\n",
       "        <span style=\"color: #008000; text-decoration-color: #008000\">'Magnetic Heading'</span>: <span style=\"color: #008080; text-decoration-color: #008080; font-weight: bold\">-19.6875</span>,\n",
       "        <span style=\"color: #008000; text-decoration-color: #008000\">'Status IAS'</span>: <span style=\"color: #00ff00; text-decoration-color: #00ff00; font-style: italic\">True</span>,\n",
       "        <span style=\"color: #008000; text-decoration-color: #008000\">'IAS'</span>: <span style=\"color: #008080; text-decoration-color: #008080; font-weight: bold\">134.0</span>,\n",
       "        <span style=\"color: #008000; text-decoration-color: #008000\">'Status Mach'</span>: <span style=\"color: #ff0000; text-decoration-color: #ff0000; font-style: italic\">False</span>,\n",
       "        <span style=\"color: #008000; text-decoration-color: #008000\">'Mach'</span>: <span style=\"color: #008080; text-decoration-color: #008080; font-weight: bold\">3.064</span>,\n",
       "        <span style=\"color: #008000; text-decoration-color: #008000\">'Status Barometric Altitude Rate'</span>: <span style=\"color: #ff0000; text-decoration-color: #ff0000; font-style: italic\">False</span>,\n",
       "        <span style=\"color: #008000; text-decoration-color: #008000\">'Barometric Altitude Rate'</span>: <span style=\"color: #008080; text-decoration-color: #008080; font-weight: bold\">16288.0</span>,\n",
       "        <span style=\"color: #008000; text-decoration-color: #008000\">'Status Inertial Vertical Velocity'</span>: <span style=\"color: #00ff00; text-decoration-color: #00ff00; font-style: italic\">True</span>,\n",
       "        <span style=\"color: #008000; text-decoration-color: #008000\">'Inertial Vertical Velocity'</span>: <span style=\"color: #008080; text-decoration-color: #008080; font-weight: bold\">11264.0</span>\n",
       "    <span style=\"font-weight: bold\">}</span>,\n",
       "    <span style=\"color: #008000; text-decoration-color: #008000\">'Groundspeed (kt)'</span>: <span style=\"color: #008080; text-decoration-color: #008080; font-weight: bold\">126.5</span>,\n",
       "    <span style=\"color: #008000; text-decoration-color: #008000\">'Heading (deg)'</span>: <span style=\"color: #008080; text-decoration-color: #008080; font-weight: bold\">18.4295654296875</span>,\n",
       "    <span style=\"color: #008000; text-decoration-color: #008000\">'ConfVTent'</span>: <span style=\"color: #ff0000; text-decoration-color: #ff0000; font-style: italic\">False</span>,\n",
       "    <span style=\"color: #008000; text-decoration-color: #008000\">'Type of Sensor'</span>: <span style=\"color: #008000; text-decoration-color: #008000\">'Combined Track'</span>,\n",
       "    <span style=\"color: #008000; text-decoration-color: #008000\">'DOU'</span>: <span style=\"color: #ff0000; text-decoration-color: #ff0000; font-style: italic\">False</span>,\n",
       "    <span style=\"color: #008000; text-decoration-color: #008000\">'Manoeuver detection Horizontal'</span>: <span style=\"color: #ff0000; text-decoration-color: #ff0000; font-style: italic\">False</span>,\n",
       "    <span style=\"color: #008000; text-decoration-color: #008000\">'Climbing/Descending'</span>: <span style=\"color: #008000; text-decoration-color: #008000\">'Unknown'</span>,\n",
       "    <span style=\"color: #008000; text-decoration-color: #008000\">'Communications Capability'</span>: <span style=\"color: #008000; text-decoration-color: #008000\">'Comm A and B'</span>,\n",
       "    <span style=\"color: #008000; text-decoration-color: #008000\">'Flight Status'</span>: <span style=\"color: #008000; text-decoration-color: #008000\">'No alert, no SPI, airborne'</span>,\n",
       "    <span style=\"color: #008000; text-decoration-color: #008000\">'SI/II'</span>: <span style=\"color: #008000; text-decoration-color: #008000\">'SI'</span>,\n",
       "    <span style=\"color: #008000; text-decoration-color: #008000\">'Mode S Specific Service Capability'</span>: <span style=\"color: #00ff00; text-decoration-color: #00ff00; font-style: italic\">True</span>,\n",
       "    <span style=\"color: #008000; text-decoration-color: #008000\">'Altitude Reporting Capability'</span>: <span style=\"color: #00ff00; text-decoration-color: #00ff00; font-style: italic\">True</span>,\n",
       "    <span style=\"color: #008000; text-decoration-color: #008000\">'Aircraft Identification Capability'</span>: <span style=\"color: #00ff00; text-decoration-color: #00ff00; font-style: italic\">True</span>,\n",
       "    <span style=\"color: #008000; text-decoration-color: #008000\">'ACAS Status'</span>: <span style=\"color: #008000; text-decoration-color: #008000\">'Operational'</span>,\n",
       "    <span style=\"color: #008000; text-decoration-color: #008000\">'Hybrid Surveillance'</span>: <span style=\"color: #ff0000; text-decoration-color: #ff0000; font-style: italic\">False</span>,\n",
       "    <span style=\"color: #008000; text-decoration-color: #008000\">'TA/RA'</span>: <span style=\"color: #008000; text-decoration-color: #008000\">'TA'</span>,\n",
       "    <span style=\"color: #008000; text-decoration-color: #008000\">'Applicable MOPS Doc'</span>: <span style=\"color: #008000; text-decoration-color: #008000\">'RTCA DO-185A'</span>\n",
       "<span style=\"font-weight: bold\">}</span>\n",
       "</pre>\n"
      ],
      "text/plain": [
       "\u001b[1m{\u001b[0m\n",
       "    \u001b[32m'Category'\u001b[0m: \u001b[1;36m48\u001b[0m,\n",
       "    \u001b[32m'SAC'\u001b[0m: \u001b[1;36m20\u001b[0m,\n",
       "    \u001b[32m'SIC'\u001b[0m: \u001b[1;36m129\u001b[0m,\n",
       "    \u001b[32m'Time'\u001b[0m: \u001b[32m'4.0:0.0:0.828125'\u001b[0m,\n",
       "    \u001b[32m'Target_Type'\u001b[0m: \u001b[32m'Mode S Roll-Call + PSR'\u001b[0m,\n",
       "    \u001b[32m'Simulated'\u001b[0m: \u001b[3;91mFalse\u001b[0m,\n",
       "    \u001b[32m'RDP'\u001b[0m: \u001b[3;91mFalse\u001b[0m,\n",
       "    \u001b[32m'SPI'\u001b[0m: \u001b[3;91mFalse\u001b[0m,\n",
       "    \u001b[32m'RAB'\u001b[0m: \u001b[3;91mFalse\u001b[0m,\n",
       "    \u001b[32m'Range NM'\u001b[0m: \u001b[1;36m1.69921875\u001b[0m,\n",
       "    \u001b[32m'Range m'\u001b[0m: \u001b[1;36m3146.953125\u001b[0m,\n",
       "    \u001b[32m'Theta'\u001b[0m: \u001b[1;36m215.6231689453125\u001b[0m,\n",
       "    \u001b[32m'Mode3A'\u001b[0m: \u001b[1;36m1000\u001b[0m,\n",
       "    \u001b[32m'FL'\u001b[0m: \u001b[1;36m2.25\u001b[0m,\n",
       "    \u001b[32m'Height \u001b[0m\u001b[32m(\u001b[0m\u001b[32mft\u001b[0m\u001b[32m)\u001b[0m\u001b[32m'\u001b[0m: \u001b[1;36m225.0\u001b[0m,\n",
       "    \u001b[32m'Height \u001b[0m\u001b[32m(\u001b[0m\u001b[32mm\u001b[0m\u001b[32m)\u001b[0m\u001b[32m'\u001b[0m: \u001b[1;36m68.58\u001b[0m,\n",
       "    \u001b[32m'SSR plot runlength'\u001b[0m: \u001b[1;36m1.3623046875\u001b[0m,\n",
       "    \u001b[32m'Number of received replies SSR'\u001b[0m: \u001b[1;36m5\u001b[0m,\n",
       "    \u001b[32m'Amplitude of \u001b[0m\u001b[32m(\u001b[0m\u001b[32mM\u001b[0m\u001b[32m)\u001b[0m\u001b[32mSSR reply'\u001b[0m: \u001b[1;36m227\u001b[0m,\n",
       "    \u001b[32m'Primary Plot Runlength \u001b[0m\u001b[32m(\u001b[0m\u001b[32mdeg\u001b[0m\u001b[32m)\u001b[0m\u001b[32m'\u001b[0m: \u001b[1;36m0.7470703125\u001b[0m,\n",
       "    \u001b[32m'Amplitude of Primary Plot \u001b[0m\u001b[32m(\u001b[0m\u001b[32mdBm\u001b[0m\u001b[32m)\u001b[0m\u001b[32m'\u001b[0m: \u001b[1;36m47\u001b[0m,\n",
       "    \u001b[32m'Range \u001b[0m\u001b[32m(\u001b[0m\u001b[32mPSR-SSR\u001b[0m\u001b[32m)\u001b[0m\u001b[32m'\u001b[0m: \u001b[1;36m0.109375\u001b[0m,\n",
       "    \u001b[32m'Azimuth \u001b[0m\u001b[32m(\u001b[0m\u001b[32mPSR-SSR\u001b[0m\u001b[32m)\u001b[0m\u001b[32m'\u001b[0m: \u001b[1;36m5.537109375\u001b[0m,\n",
       "    \u001b[32m'TA'\u001b[0m: \u001b[32m'34310D'\u001b[0m,\n",
       "    \u001b[32m'TI'\u001b[0m: \u001b[32m'BCS3LR'\u001b[0m,\n",
       "    \u001b[32m'Repetition'\u001b[0m: \u001b[1;36m2\u001b[0m,\n",
       "    \u001b[32m'4,0'\u001b[0m: \u001b[1m{\u001b[0m\n",
       "        \u001b[32m'Status MCP/FCU'\u001b[0m: \u001b[3;92mTrue\u001b[0m,\n",
       "        \u001b[32m'MCP/FCU Selected Altitude'\u001b[0m: \u001b[1;36m200.3125\u001b[0m,\n",
       "        \u001b[32m'Status FMS'\u001b[0m: \u001b[3;92mTrue\u001b[0m,\n",
       "        \u001b[32m'FMS Selected Altitude'\u001b[0m: \u001b[1;36m204.125\u001b[0m,\n",
       "        \u001b[32m'Status Barometric Reference'\u001b[0m: \u001b[3;92mTrue\u001b[0m,\n",
       "        \u001b[32m'Barometric Pressure Setting'\u001b[0m: \u001b[1;36m902.4\u001b[0m,\n",
       "        \u001b[32m'Status MCP/FCU Mode'\u001b[0m: \u001b[3;91mFalse\u001b[0m,\n",
       "        \u001b[32m'VNAV Mode'\u001b[0m: \u001b[3;91mFalse\u001b[0m,\n",
       "        \u001b[32m'ALT Hold Mode'\u001b[0m: \u001b[3;92mTrue\u001b[0m,\n",
       "        \u001b[32m'Approach Mode'\u001b[0m: \u001b[3;91mFalse\u001b[0m,\n",
       "        \u001b[32m'Status Target Source'\u001b[0m: \u001b[3;91mFalse\u001b[0m,\n",
       "        \u001b[32m'Target Alt Source'\u001b[0m: \u001b[32m'Unknown'\u001b[0m\n",
       "    \u001b[1m}\u001b[0m,\n",
       "    \u001b[32m'6,0'\u001b[0m: \u001b[1m{\u001b[0m\n",
       "        \u001b[32m'Status Magnetic Heading'\u001b[0m: \u001b[3;91mFalse\u001b[0m,\n",
       "        \u001b[32m'Magnetic Heading'\u001b[0m: \u001b[1;36m-19.6875\u001b[0m,\n",
       "        \u001b[32m'Status IAS'\u001b[0m: \u001b[3;92mTrue\u001b[0m,\n",
       "        \u001b[32m'IAS'\u001b[0m: \u001b[1;36m134.0\u001b[0m,\n",
       "        \u001b[32m'Status Mach'\u001b[0m: \u001b[3;91mFalse\u001b[0m,\n",
       "        \u001b[32m'Mach'\u001b[0m: \u001b[1;36m3.064\u001b[0m,\n",
       "        \u001b[32m'Status Barometric Altitude Rate'\u001b[0m: \u001b[3;91mFalse\u001b[0m,\n",
       "        \u001b[32m'Barometric Altitude Rate'\u001b[0m: \u001b[1;36m16288.0\u001b[0m,\n",
       "        \u001b[32m'Status Inertial Vertical Velocity'\u001b[0m: \u001b[3;92mTrue\u001b[0m,\n",
       "        \u001b[32m'Inertial Vertical Velocity'\u001b[0m: \u001b[1;36m11264.0\u001b[0m\n",
       "    \u001b[1m}\u001b[0m,\n",
       "    \u001b[32m'Groundspeed \u001b[0m\u001b[32m(\u001b[0m\u001b[32mkt\u001b[0m\u001b[32m)\u001b[0m\u001b[32m'\u001b[0m: \u001b[1;36m126.5\u001b[0m,\n",
       "    \u001b[32m'Heading \u001b[0m\u001b[32m(\u001b[0m\u001b[32mdeg\u001b[0m\u001b[32m)\u001b[0m\u001b[32m'\u001b[0m: \u001b[1;36m18.4295654296875\u001b[0m,\n",
       "    \u001b[32m'ConfVTent'\u001b[0m: \u001b[3;91mFalse\u001b[0m,\n",
       "    \u001b[32m'Type of Sensor'\u001b[0m: \u001b[32m'Combined Track'\u001b[0m,\n",
       "    \u001b[32m'DOU'\u001b[0m: \u001b[3;91mFalse\u001b[0m,\n",
       "    \u001b[32m'Manoeuver detection Horizontal'\u001b[0m: \u001b[3;91mFalse\u001b[0m,\n",
       "    \u001b[32m'Climbing/Descending'\u001b[0m: \u001b[32m'Unknown'\u001b[0m,\n",
       "    \u001b[32m'Communications Capability'\u001b[0m: \u001b[32m'Comm A and B'\u001b[0m,\n",
       "    \u001b[32m'Flight Status'\u001b[0m: \u001b[32m'No alert, no SPI, airborne'\u001b[0m,\n",
       "    \u001b[32m'SI/II'\u001b[0m: \u001b[32m'SI'\u001b[0m,\n",
       "    \u001b[32m'Mode S Specific Service Capability'\u001b[0m: \u001b[3;92mTrue\u001b[0m,\n",
       "    \u001b[32m'Altitude Reporting Capability'\u001b[0m: \u001b[3;92mTrue\u001b[0m,\n",
       "    \u001b[32m'Aircraft Identification Capability'\u001b[0m: \u001b[3;92mTrue\u001b[0m,\n",
       "    \u001b[32m'ACAS Status'\u001b[0m: \u001b[32m'Operational'\u001b[0m,\n",
       "    \u001b[32m'Hybrid Surveillance'\u001b[0m: \u001b[3;91mFalse\u001b[0m,\n",
       "    \u001b[32m'TA/RA'\u001b[0m: \u001b[32m'TA'\u001b[0m,\n",
       "    \u001b[32m'Applicable MOPS Doc'\u001b[0m: \u001b[32m'RTCA DO-185A'\u001b[0m\n",
       "\u001b[1m}\u001b[0m\n"
      ]
     },
     "metadata": {},
     "output_type": "display_data"
    }
   ],
   "source": [
    "decoder = Decoder()\n",
    "data = decoder.load(\n",
    "    \"Test_Data/datos_asterix_radar.ast\",\n",
    "    parallel=False,\n",
    "    max_messages=10,\n",
    ")\n",
    "print(data[1])"
   ]
  },
  {
   "cell_type": "code",
   "execution_count": 18,
   "id": "70e47831",
   "metadata": {},
   "outputs": [],
   "source": [
    "rho = data[1][\"Range m\"]\n",
    "theta = data[1][\"Theta\"] * np.pi / 180\n",
    "H = data[1][\"Height (m)\"]\n",
    "\n",
    "radar_lat = (41 + 18 / 60.0 + 2 / 3600.0)*np.pi/180\n",
    "radar_lon = (2 + 6 / 60.0 + 7 / 3600.0)*np.pi/180\n",
    "radar_alt = 27\n",
    "coords_radar = CoordinatesWGS84(radar_lat, radar_lon, radar_alt)\n",
    "\n",
    "Rt=6378e3"
   ]
  },
  {
   "cell_type": "code",
   "execution_count": 19,
   "id": "80669e98",
   "metadata": {},
   "outputs": [],
   "source": [
    "elevation = np.asin((H - radar_alt) / rho)\n",
    "coords_polar = CoordinatesPolar(rho, theta, elevation)"
   ]
  },
  {
   "cell_type": "code",
   "execution_count": 20,
   "id": "f99c958a",
   "metadata": {},
   "outputs": [],
   "source": [
    "coords_cartesian = GeoUtils.change_radar_spherical_2_radar_cartesian(coords_polar)"
   ]
  },
  {
   "cell_type": "code",
   "execution_count": 21,
   "id": "b16bdcd6",
   "metadata": {},
   "outputs": [],
   "source": [
    "coords_geocentric = GeoUtils().change_radar_cartesian_2_geocentric(\n",
    "    coords_radar, coords_cartesian\n",
    ")"
   ]
  },
  {
   "cell_type": "code",
   "execution_count": 22,
   "id": "d51d658e",
   "metadata": {},
   "outputs": [
    {
     "data": {
      "text/html": [
       "<pre style=\"white-space:pre;overflow-x:auto;line-height:normal;font-family:Menlo,'DejaVu Sans Mono',consolas,'Courier New',monospace\"><span style=\"color: #00ff00; text-decoration-color: #00ff00; font-weight: bold\">41:16:40</span>.0837N <span style=\"color: #00ff00; text-decoration-color: #00ff00; font-weight: bold\">002:04:48</span>.2477E <span style=\"color: #008080; text-decoration-color: #008080; font-weight: bold\">96.</span>5015m\n",
       "lat:<span style=\"color: #008080; text-decoration-color: #008080; font-weight: bold\">41.277801024</span> lon:<span style=\"color: #008080; text-decoration-color: #008080; font-weight: bold\">2.080068817</span>\n",
       "</pre>\n"
      ],
      "text/plain": [
       "\u001b[1;92m41:16:40\u001b[0m.0837N \u001b[1;92m002:04:48\u001b[0m.2477E \u001b[1;36m96.\u001b[0m5015m\n",
       "lat:\u001b[1;36m41.277801024\u001b[0m lon:\u001b[1;36m2.080068817\u001b[0m\n"
      ]
     },
     "metadata": {},
     "output_type": "display_data"
    }
   ],
   "source": [
    "coords_geodesic = GeoUtils().change_geocentric_2_geodesic(coords_geocentric)\n",
    "print(str(coords_geodesic))"
   ]
  },
  {
   "cell_type": "code",
   "execution_count": 24,
   "id": "88f53456",
   "metadata": {},
   "outputs": [
    {
     "data": {
      "text/html": [
       "<pre style=\"white-space:pre;overflow-x:auto;line-height:normal;font-family:Menlo,'DejaVu Sans Mono',consolas,'Courier New',monospace\">alpha <span style=\"font-weight: bold\">(</span>deg<span style=\"font-weight: bold\">)</span>:  <span style=\"color: #008080; text-decoration-color: #008080; font-weight: bold\">0.028267488844797697</span>\n",
       "</pre>\n"
      ],
      "text/plain": [
       "alpha \u001b[1m(\u001b[0mdeg\u001b[1m)\u001b[0m:  \u001b[1;36m0.028267488844797697\u001b[0m\n"
      ]
     },
     "metadata": {},
     "output_type": "display_data"
    },
    {
     "data": {
      "text/html": [
       "<pre style=\"white-space:pre;overflow-x:auto;line-height:normal;font-family:Menlo,'DejaVu Sans Mono',consolas,'Courier New',monospace\">Radar coords <span style=\"font-weight: bold\">(</span>lat, lon, alt<span style=\"font-weight: bold\">)</span>: <span style=\"color: #008080; text-decoration-color: #008080; font-weight: bold\">0.7208306773472802</span> <span style=\"color: #008080; text-decoration-color: #008080; font-weight: bold\">0.03668585124955859</span> <span style=\"color: #008080; text-decoration-color: #008080; font-weight: bold\">27</span>\n",
       "</pre>\n"
      ],
      "text/plain": [
       "Radar coords \u001b[1m(\u001b[0mlat, lon, alt\u001b[1m)\u001b[0m: \u001b[1;36m0.7208306773472802\u001b[0m \u001b[1;36m0.03668585124955859\u001b[0m \u001b[1;36m27\u001b[0m\n"
      ]
     },
     "metadata": {},
     "output_type": "display_data"
    },
    {
     "data": {
      "text/html": [
       "<pre style=\"white-space:pre;overflow-x:auto;line-height:normal;font-family:Menlo,'DejaVu Sans Mono',consolas,'Courier New',monospace\"><span style=\"color: #00ff00; text-decoration-color: #00ff00; font-weight: bold\">41:18:2</span>.0000N <span style=\"color: #00ff00; text-decoration-color: #00ff00; font-weight: bold\">002:06:7</span>.0000E <span style=\"color: #008080; text-decoration-color: #008080; font-weight: bold\">27.</span>0000m\n",
       "lat:<span style=\"color: #008080; text-decoration-color: #008080; font-weight: bold\">41.300555556</span> lon:<span style=\"color: #008080; text-decoration-color: #008080; font-weight: bold\">2.101944444</span>\n",
       "</pre>\n"
      ],
      "text/plain": [
       "\u001b[1;92m41:18:2\u001b[0m.0000N \u001b[1;92m002:06:7\u001b[0m.0000E \u001b[1;36m27.\u001b[0m0000m\n",
       "lat:\u001b[1;36m41.300555556\u001b[0m lon:\u001b[1;36m2.101944444\u001b[0m\n"
      ]
     },
     "metadata": {},
     "output_type": "display_data"
    },
    {
     "data": {
      "text/html": [
       "<pre style=\"white-space:pre;overflow-x:auto;line-height:normal;font-family:Menlo,'DejaVu Sans Mono',consolas,'Courier New',monospace\"><span style=\"color: #00ff00; text-decoration-color: #00ff00; font-weight: bold\">41:17:2</span>.7280N <span style=\"color: #00ff00; text-decoration-color: #00ff00; font-weight: bold\">002:04:44</span>.2804E <span style=\"color: #008080; text-decoration-color: #008080; font-weight: bold\">68.</span>5800m\n",
       "lat:<span style=\"color: #008080; text-decoration-color: #008080; font-weight: bold\">41.284091108</span> lon:<span style=\"color: #008080; text-decoration-color: #008080; font-weight: bold\">2.078966784</span>\n",
       "</pre>\n"
      ],
      "text/plain": [
       "\u001b[1;92m41:17:2\u001b[0m.7280N \u001b[1;92m002:04:44\u001b[0m.2804E \u001b[1;36m68.\u001b[0m5800m\n",
       "lat:\u001b[1;36m41.284091108\u001b[0m lon:\u001b[1;36m2.078966784\u001b[0m\n"
      ]
     },
     "metadata": {},
     "output_type": "display_data"
    },
    {
     "data": {
      "text/html": [
       "<pre style=\"white-space:pre;overflow-x:auto;line-height:normal;font-family:Menlo,'DejaVu Sans Mono',consolas,'Courier New',monospace\">New point coords <span style=\"font-weight: bold\">(</span>lat, lon, alt<span style=\"font-weight: bold\">)</span>: <span style=\"color: #008080; text-decoration-color: #008080; font-weight: bold\">0.7043662298588637</span> <span style=\"color: #008080; text-decoration-color: #008080; font-weight: bold\">0.013708190478889694</span> <span style=\"color: #008080; text-decoration-color: #008080; font-weight: bold\">68.58</span>\n",
       "</pre>\n"
      ],
      "text/plain": [
       "New point coords \u001b[1m(\u001b[0mlat, lon, alt\u001b[1m)\u001b[0m: \u001b[1;36m0.7043662298588637\u001b[0m \u001b[1;36m0.013708190478889694\u001b[0m \u001b[1;36m68.58\u001b[0m\n"
      ]
     },
     "metadata": {},
     "output_type": "display_data"
    }
   ],
   "source": [
    "b=Rt+H\n",
    "c=Rt+radar_alt\n",
    "alpha=np.arccos((b**2+c**2-rho**2)/(2*b*c))\n",
    "print(\"alpha (deg): \", alpha*180/np.pi)\n",
    "coords_radar = CoordinatesWGS84(radar_lat, radar_lon, radar_alt)\n",
    "print(\"Radar coords (lat, lon, alt):\",radar_lat, radar_lon, radar_alt)\n",
    "print(str(coords_radar))\n",
    "coords_p=CoordinatesWGS84(radar_lat+alpha*np.sin(theta),radar_lon+alpha*np.cos(theta),H)\n",
    "print(str(coords_p))\n",
    "print(\"New point coords (lat, lon, alt):\",radar_lat+alpha*180*np.sin(theta)/np.pi,radar_lon+alpha*180*np.cos(theta)/np.pi,H)"
   ]
  },
  {
   "cell_type": "code",
   "execution_count": null,
   "id": "e11005fb",
   "metadata": {},
   "outputs": [],
   "source": []
  }
 ],
 "metadata": {
  "kernelspec": {
   "display_name": "asterix_decoder (3.10.18)",
   "language": "python",
   "name": "python3"
  },
  "language_info": {
   "codemirror_mode": {
    "name": "ipython",
    "version": 3
   },
   "file_extension": ".py",
   "mimetype": "text/x-python",
   "name": "python",
   "nbconvert_exporter": "python",
   "pygments_lexer": "ipython3",
   "version": "3.10.18"
  }
 },
 "nbformat": 4,
 "nbformat_minor": 5
}
